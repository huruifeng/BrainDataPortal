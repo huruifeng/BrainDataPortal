{
 "cells": [
  {
   "cell_type": "markdown",
   "id": "18477298e9a80ef1",
   "metadata": {},
   "source": [
    "# 🔍 Cluster Marker Gene Analysis\n",
    "\n",
    "This notebook identifies and analyzes top marker genes for each cell type (or cluster) from single-cell data. It also calculates detection frequency and average expression for selected marker genes across conditions and sexes."
   ]
  },
  {
   "cell_type": "markdown",
   "id": "897d7d58b2ae298c",
   "metadata": {},
   "source": [
    "## 📦 Import required libraries"
   ]
  },
  {
   "cell_type": "code",
   "execution_count": 1,
   "id": "30654516d82a13d8",
   "metadata": {
    "ExecuteTime": {
     "end_time": "2025-07-22T18:48:41.615242Z",
     "start_time": "2025-07-22T18:48:41.026423Z"
    }
   },
   "outputs": [],
   "source": [
    "import pandas as pd\n",
    "import json\n",
    "from collections import defaultdict\n",
    "import os\n",
    "import sys\n",
    "import numpy as np"
   ]
  },
  {
   "cell_type": "markdown",
   "id": "b0412f3869a16bc",
   "metadata": {},
   "source": [
    "## 📁 Define Dataset and Parameters"
   ]
  },
  {
   "cell_type": "code",
   "execution_count": null,
   "id": "dc493dc2737b7edf",
   "metadata": {
    "ExecuteTime": {
     "end_time": "2025-07-22T18:49:13.828701Z",
     "start_time": "2025-07-22T18:49:13.825794Z"
    }
   },
   "outputs": [],
   "source": [
    "# Define dataset and metadata column names\n",
    "dataset_folder = \"example_data/Visium_MTG_10samples\"\n",
    "cluster_col = \"smoothed_label_s5\"\n",
    "sex_col = \"sex\"\n"
   ]
  },
  {
   "cell_type": "markdown",
   "id": "fee8683b87721843",
   "metadata": {},
   "source": [
    "## 📊 Load and Filter Marker Genes"
   ]
  },
  {
   "cell_type": "code",
   "execution_count": null,
   "id": "4a640176c8256203",
   "metadata": {
    "ExecuteTime": {
     "end_time": "2025-07-22T18:49:20.918366Z",
     "start_time": "2025-07-22T18:49:20.448596Z"
    }
   },
   "outputs": [],
   "source": [
    "condition_col = \"Condition\"\n",
    "output_folder = dataset_folder + \"/clustermarkers\"\n",
    "\n",
    "marker_gene_file = output_folder + \"/cluster_FindAllMarkers.csv\"\n",
    "marker_genes = pd.read_csv(marker_gene_file, index_col=None, header=0)\n",
    "\n",
    "# Filter for significant genes\n",
    "filtered_df = marker_genes[marker_genes['p_val_adj'] < 0.05]\n",
    "\n",
    "# Select top 10 by log2FC per cluster\n",
    "top_genes = (\n",
    "    filtered_df\n",
    "    .assign(abs_log2FC = filtered_df['avg_log2FC'])  # use abs() if needed\n",
    "    .sort_values(['cluster', 'abs_log2FC'], ascending=[True, False])\n",
    "    .groupby('cluster')\n",
    "    .head(10)\n",
    "    .drop(columns='abs_log2FC')\n",
    ")\n",
    "\n",
    "top_genes.loc[:,[\"cluster\",\"gene\",\"avg_log2FC\",\"p_val_adj\"]].to_csv(output_folder+'/cluster_markergenes_topN.csv', index=False)"
   ]
  },
  {
   "cell_type": "markdown",
   "id": "aab4bf7d32358331",
   "metadata": {},
   "source": [
    "## 💾 Save Marker Genes to JSON Dictionary"
   ]
  },
  {
   "cell_type": "code",
   "execution_count": null,
   "id": "a0ac1917cc462263",
   "metadata": {},
   "outputs": [],
   "source": [
    "marker_genes_dict = defaultdict(list)\n",
    "for index, row in top_genes.iterrows():\n",
    "    marker_genes_dict[row[\"cluster\"]].append([row[\"gene\"], row[\"avg_log2FC\"], row[\"p_val_adj\"]])\n",
    "\n",
    "with open(output_folder + \"/cluster_markergenes_topN.json\", \"w\") as f:\n",
    "    json.dump(marker_genes_dict, f, indent=4)"
   ]
  },
  {
   "cell_type": "markdown",
   "id": "e4d62bb2156b886d",
   "metadata": {},
   "source": [
    "## 📑 Load Metadata and Setup Cluster List"
   ]
  },
  {
   "cell_type": "code",
   "execution_count": null,
   "id": "59a1200f97f444f3",
   "metadata": {},
   "outputs": [],
   "source": [
    "pool_genes = top_genes[\"gene\"].unique().tolist()\n",
    "cluster_list = top_genes[\"cluster\"].unique().tolist()\n",
    "metadata = pd.read_csv(dataset_folder + \"/cellspot_metadata_original.csv\", index_col=0, header=0)"
   ]
  },
  {
   "cell_type": "markdown",
   "id": "268a24dc6eb9cb0e",
   "metadata": {},
   "source": [
    "## 📈 Analyze Expression Levels and Cell Counts per Gene/Cluster/Condition/Sex"
   ]
  },
  {
   "cell_type": "code",
   "execution_count": null,
   "id": "fb2e1f09d2a70765",
   "metadata": {},
   "outputs": [],
   "source": [
    "pct_detected = {}\n",
    "marker_genes_df = pd.DataFrame()\n",
    "\n",
    "for cluster in cluster_list:\n",
    "    print(\"==========================\")\n",
    "    print(\"Processing cluster: \", cluster)\n",
    "    pct_detected[cluster] = []\n",
    "    cells_in_cluster = metadata[metadata[cluster_col] == cluster]\n",
    "    num_cells = len(cells_in_cluster)\n",
    "    \n",
    "    conditions = metadata[condition_col].unique().tolist()\n",
    "    sex = metadata[sex_col].unique().tolist()\n",
    "    \n",
    "    for condition in conditions:\n",
    "        for s in sex:\n",
    "            subgroup_counts = {}\n",
    "            print(\"Processing condition: \", condition, \" and sex: \", s)\n",
    "            diagnosis_sex_group = cells_in_cluster[(cells_in_cluster[condition_col] == condition) & (cells_in_cluster[sex_col] == s)]\n",
    "            n_cells = len(diagnosis_sex_group)\n",
    "            subgroup_counts[\"condition\"] = condition\n",
    "            subgroup_counts[\"sex\"] = s\n",
    "            subgroup_counts[\"count\"] = n_cells\n",
    "            pct_detected[cluster].append(subgroup_counts)\n",
    "    \n",
    "    marker_genes = {}\n",
    "    for gene in pool_genes:\n",
    "        marker_genes[gene] = {}\n",
    "        gene_expr = json.load(open(dataset_folder + \"/gene_jsons/\"+gene+\".json\"))\n",
    "        gene_expr_in_cells = list(gene_expr.keys())\n",
    "        cells_with_gene_expr = [cell for cell in gene_expr_in_cells if cell in cells_in_cluster.index]\n",
    "        num_cells_with_gene_expr = len(cells_with_gene_expr)\n",
    "\n",
    "        if num_cells_with_gene_expr == 0:\n",
    "            avg_expr = 0.00\n",
    "        else:\n",
    "            avg_expr = np.nanmean([float(gene_expr[cell]) for cell in cells_with_gene_expr])\n",
    "            if np.isnan(avg_expr):\n",
    "                avg_expr = 0.00\n",
    "            else:\n",
    "                avg_expr = round(avg_expr, 2)\n",
    "        \n",
    "        marker_genes[gene][\"avg_expr\"] = avg_expr\n",
    "        marker_genes[gene][\"is_marker\"] = gene in [g[0] for g in marker_genes_dict[cluster]]\n",
    "        marker_genes[gene][\"n_expr_cells\"] = num_cells_with_gene_expr\n",
    "    \n",
    "    marker_df = pd.DataFrame.from_dict(marker_genes, orient='index')\n",
    "    marker_df[cluster_col] = cluster\n",
    "    marker_df[\"cluster_n_cells\"] = num_cells\n",
    "    marker_genes_df = pd.concat([marker_genes_df, marker_df], axis=0)\n",
    "\n",
    "marker_genes_df[\"gene\"] = marker_genes_df.index\n",
    "marker_genes_df = marker_genes_df.reset_index(drop=True)\n",
    "marker_genes_df = marker_genes_df[[\"gene\", cluster_col, \"cluster_n_cells\"] + \n",
    "                                  [col for col in marker_genes_df.columns \n",
    "                                   if col not in [\"gene\", cluster_col, \"cluster_n_cells\"]]]\n",
    "\n",
    "marker_genes_df.to_csv(output_folder + \"/cluster_markergenes_cellcounts.csv\", index=False)\n",
    "\n",
    "with open(output_folder + \"/cluster_cellcounts.json\", \"w\") as f:\n",
    "    json.dump(pct_detected, f, indent=4)"
   ]
  }
 ],
 "metadata": {
  "kernelspec": {
   "display_name": "Python 3",
   "language": "python",
   "name": "python3"
  },
  "language_info": {
   "name": "python",
   "version": ""
  }
 },
 "nbformat": 4,
 "nbformat_minor": 5
}
