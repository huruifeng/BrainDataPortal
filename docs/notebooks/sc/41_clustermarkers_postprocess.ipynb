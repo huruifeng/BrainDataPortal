{
 "cells": [
  {
   "cell_type": "markdown",
   "metadata": {},
   "source": [
    "# 🔍 Cluster Marker Gene Analysis\n",
    "\n",
    "This notebook identifies and analyzes top marker genes for each cell type (or cluster) from single-cell data. It also calculates detection frequency and average expression for selected marker genes across conditions and sexes."
   ],
   "id": "18477298e9a80ef1"
  },
  {
   "metadata": {},
   "cell_type": "markdown",
   "source": "## 📦 Import required libraries",
   "id": "897d7d58b2ae298c"
  },
  {
   "cell_type": "code",
   "metadata": {
    "ExecuteTime": {
     "end_time": "2025-07-22T18:48:41.615242Z",
     "start_time": "2025-07-22T18:48:41.026423Z"
    }
   },
   "source": [
    "import pandas as pd\n",
    "import json\n",
    "from collections import defaultdict\n",
    "import os\n",
    "import sys\n",
    "import numpy as np"
   ],
   "id": "30654516d82a13d8",
   "outputs": [],
   "execution_count": 1
  },
  {
   "cell_type": "markdown",
   "metadata": {},
   "source": [
    "## 📁 Define Dataset and Parameters"
   ],
   "id": "b0412f3869a16bc"
  },
  {
   "cell_type": "code",
   "metadata": {
    "ExecuteTime": {
     "end_time": "2025-07-22T18:49:13.828701Z",
     "start_time": "2025-07-22T18:49:13.825794Z"
    }
   },
   "source": [
    "# Define dataset and metadata column names\n",
    "dataset_folder = \"example_data/PMDBS_snRNAseq\"\n",
    "cluster_col = \"cell_type\"\n",
    "sex_col = \"sex\"\n",
    "condition_col = \"Condition\"\n",
    "output_folder = dataset_folder + \"/clustermarkers\""
   ],
   "id": "dc493dc2737b7edf",
   "outputs": [],
   "execution_count": 2
  },
  {
   "cell_type": "markdown",
   "metadata": {},
   "source": [
    "## 📊 Load and Filter Marker Genes"
   ],
   "id": "fee8683b87721843"
  },
  {
   "cell_type": "code",
   "metadata": {
    "ExecuteTime": {
     "end_time": "2025-07-22T18:49:20.918366Z",
     "start_time": "2025-07-22T18:49:20.448596Z"
    }
   },
   "source": [
    "marker_gene_file = output_folder + \"/cluster_FindAllMarkers.csv\"\n",
    "marker_genes = pd.read_csv(marker_gene_file, index_col=None, header=0)\n",
    "\n",
    "# Filter for significant genes\n",
    "filtered_df = marker_genes[marker_genes['p_val_adj'] < 0.05]\n",
    "\n",
    "# Select top 10 by log2FC per cluster\n",
    "top_genes = (\n",
    "    filtered_df\n",
    "    .assign(abs_log2FC = filtered_df['avg_log2FC'])  # use abs() if needed\n",
    "    .sort_values(['cluster', 'abs_log2FC'], ascending=[True, False])\n",
    "    .groupby('cluster')\n",
    "    .head(10)\n",
    "    .drop(columns='abs_log2FC')\n",
    ")\n",
    "\n",
    "top_genes.loc[:,[\"cluster\",\"gene\",\"avg_log2FC\",\"p_val_adj\"]].to_csv(output_folder+'/cluster_markergenes_topN.csv', index=False)"
   ],
   "id": "4a640176c8256203",
   "outputs": [
    {
     "ename": "EmptyDataError",
     "evalue": "No columns to parse from file",
     "output_type": "error",
     "traceback": [
      "\u001B[0;31m---------------------------------------------------------------------------\u001B[0m",
      "\u001B[0;31mEmptyDataError\u001B[0m                            Traceback (most recent call last)",
      "Cell \u001B[0;32mIn[3], line 2\u001B[0m\n\u001B[1;32m      1\u001B[0m marker_gene_file \u001B[38;5;241m=\u001B[39m output_folder \u001B[38;5;241m+\u001B[39m \u001B[38;5;124m\"\u001B[39m\u001B[38;5;124m/cluster_FindAllMarkers.csv\u001B[39m\u001B[38;5;124m\"\u001B[39m\n\u001B[0;32m----> 2\u001B[0m marker_genes \u001B[38;5;241m=\u001B[39m \u001B[43mpd\u001B[49m\u001B[38;5;241;43m.\u001B[39;49m\u001B[43mread_csv\u001B[49m\u001B[43m(\u001B[49m\u001B[43mmarker_gene_file\u001B[49m\u001B[43m,\u001B[49m\u001B[43m \u001B[49m\u001B[43mindex_col\u001B[49m\u001B[38;5;241;43m=\u001B[39;49m\u001B[38;5;28;43;01mNone\u001B[39;49;00m\u001B[43m,\u001B[49m\u001B[43m \u001B[49m\u001B[43mheader\u001B[49m\u001B[38;5;241;43m=\u001B[39;49m\u001B[38;5;241;43m0\u001B[39;49m\u001B[43m)\u001B[49m\n\u001B[1;32m      4\u001B[0m \u001B[38;5;66;03m# Filter for significant genes\u001B[39;00m\n\u001B[1;32m      5\u001B[0m filtered_df \u001B[38;5;241m=\u001B[39m marker_genes[marker_genes[\u001B[38;5;124m'\u001B[39m\u001B[38;5;124mp_val_adj\u001B[39m\u001B[38;5;124m'\u001B[39m] \u001B[38;5;241m<\u001B[39m \u001B[38;5;241m0.05\u001B[39m]\n",
      "File \u001B[0;32m~/.conda/envs/BrainDataPortal/lib/python3.10/site-packages/pandas/io/parsers/readers.py:1026\u001B[0m, in \u001B[0;36mread_csv\u001B[0;34m(filepath_or_buffer, sep, delimiter, header, names, index_col, usecols, dtype, engine, converters, true_values, false_values, skipinitialspace, skiprows, skipfooter, nrows, na_values, keep_default_na, na_filter, verbose, skip_blank_lines, parse_dates, infer_datetime_format, keep_date_col, date_parser, date_format, dayfirst, cache_dates, iterator, chunksize, compression, thousands, decimal, lineterminator, quotechar, quoting, doublequote, escapechar, comment, encoding, encoding_errors, dialect, on_bad_lines, delim_whitespace, low_memory, memory_map, float_precision, storage_options, dtype_backend)\u001B[0m\n\u001B[1;32m   1013\u001B[0m kwds_defaults \u001B[38;5;241m=\u001B[39m _refine_defaults_read(\n\u001B[1;32m   1014\u001B[0m     dialect,\n\u001B[1;32m   1015\u001B[0m     delimiter,\n\u001B[0;32m   (...)\u001B[0m\n\u001B[1;32m   1022\u001B[0m     dtype_backend\u001B[38;5;241m=\u001B[39mdtype_backend,\n\u001B[1;32m   1023\u001B[0m )\n\u001B[1;32m   1024\u001B[0m kwds\u001B[38;5;241m.\u001B[39mupdate(kwds_defaults)\n\u001B[0;32m-> 1026\u001B[0m \u001B[38;5;28;01mreturn\u001B[39;00m \u001B[43m_read\u001B[49m\u001B[43m(\u001B[49m\u001B[43mfilepath_or_buffer\u001B[49m\u001B[43m,\u001B[49m\u001B[43m \u001B[49m\u001B[43mkwds\u001B[49m\u001B[43m)\u001B[49m\n",
      "File \u001B[0;32m~/.conda/envs/BrainDataPortal/lib/python3.10/site-packages/pandas/io/parsers/readers.py:620\u001B[0m, in \u001B[0;36m_read\u001B[0;34m(filepath_or_buffer, kwds)\u001B[0m\n\u001B[1;32m    617\u001B[0m _validate_names(kwds\u001B[38;5;241m.\u001B[39mget(\u001B[38;5;124m\"\u001B[39m\u001B[38;5;124mnames\u001B[39m\u001B[38;5;124m\"\u001B[39m, \u001B[38;5;28;01mNone\u001B[39;00m))\n\u001B[1;32m    619\u001B[0m \u001B[38;5;66;03m# Create the parser.\u001B[39;00m\n\u001B[0;32m--> 620\u001B[0m parser \u001B[38;5;241m=\u001B[39m \u001B[43mTextFileReader\u001B[49m\u001B[43m(\u001B[49m\u001B[43mfilepath_or_buffer\u001B[49m\u001B[43m,\u001B[49m\u001B[43m \u001B[49m\u001B[38;5;241;43m*\u001B[39;49m\u001B[38;5;241;43m*\u001B[39;49m\u001B[43mkwds\u001B[49m\u001B[43m)\u001B[49m\n\u001B[1;32m    622\u001B[0m \u001B[38;5;28;01mif\u001B[39;00m chunksize \u001B[38;5;129;01mor\u001B[39;00m iterator:\n\u001B[1;32m    623\u001B[0m     \u001B[38;5;28;01mreturn\u001B[39;00m parser\n",
      "File \u001B[0;32m~/.conda/envs/BrainDataPortal/lib/python3.10/site-packages/pandas/io/parsers/readers.py:1620\u001B[0m, in \u001B[0;36mTextFileReader.__init__\u001B[0;34m(self, f, engine, **kwds)\u001B[0m\n\u001B[1;32m   1617\u001B[0m     \u001B[38;5;28mself\u001B[39m\u001B[38;5;241m.\u001B[39moptions[\u001B[38;5;124m\"\u001B[39m\u001B[38;5;124mhas_index_names\u001B[39m\u001B[38;5;124m\"\u001B[39m] \u001B[38;5;241m=\u001B[39m kwds[\u001B[38;5;124m\"\u001B[39m\u001B[38;5;124mhas_index_names\u001B[39m\u001B[38;5;124m\"\u001B[39m]\n\u001B[1;32m   1619\u001B[0m \u001B[38;5;28mself\u001B[39m\u001B[38;5;241m.\u001B[39mhandles: IOHandles \u001B[38;5;241m|\u001B[39m \u001B[38;5;28;01mNone\u001B[39;00m \u001B[38;5;241m=\u001B[39m \u001B[38;5;28;01mNone\u001B[39;00m\n\u001B[0;32m-> 1620\u001B[0m \u001B[38;5;28mself\u001B[39m\u001B[38;5;241m.\u001B[39m_engine \u001B[38;5;241m=\u001B[39m \u001B[38;5;28;43mself\u001B[39;49m\u001B[38;5;241;43m.\u001B[39;49m\u001B[43m_make_engine\u001B[49m\u001B[43m(\u001B[49m\u001B[43mf\u001B[49m\u001B[43m,\u001B[49m\u001B[43m \u001B[49m\u001B[38;5;28;43mself\u001B[39;49m\u001B[38;5;241;43m.\u001B[39;49m\u001B[43mengine\u001B[49m\u001B[43m)\u001B[49m\n",
      "File \u001B[0;32m~/.conda/envs/BrainDataPortal/lib/python3.10/site-packages/pandas/io/parsers/readers.py:1898\u001B[0m, in \u001B[0;36mTextFileReader._make_engine\u001B[0;34m(self, f, engine)\u001B[0m\n\u001B[1;32m   1895\u001B[0m     \u001B[38;5;28;01mraise\u001B[39;00m \u001B[38;5;167;01mValueError\u001B[39;00m(msg)\n\u001B[1;32m   1897\u001B[0m \u001B[38;5;28;01mtry\u001B[39;00m:\n\u001B[0;32m-> 1898\u001B[0m     \u001B[38;5;28;01mreturn\u001B[39;00m \u001B[43mmapping\u001B[49m\u001B[43m[\u001B[49m\u001B[43mengine\u001B[49m\u001B[43m]\u001B[49m\u001B[43m(\u001B[49m\u001B[43mf\u001B[49m\u001B[43m,\u001B[49m\u001B[43m \u001B[49m\u001B[38;5;241;43m*\u001B[39;49m\u001B[38;5;241;43m*\u001B[39;49m\u001B[38;5;28;43mself\u001B[39;49m\u001B[38;5;241;43m.\u001B[39;49m\u001B[43moptions\u001B[49m\u001B[43m)\u001B[49m\n\u001B[1;32m   1899\u001B[0m \u001B[38;5;28;01mexcept\u001B[39;00m \u001B[38;5;167;01mException\u001B[39;00m:\n\u001B[1;32m   1900\u001B[0m     \u001B[38;5;28;01mif\u001B[39;00m \u001B[38;5;28mself\u001B[39m\u001B[38;5;241m.\u001B[39mhandles \u001B[38;5;129;01mis\u001B[39;00m \u001B[38;5;129;01mnot\u001B[39;00m \u001B[38;5;28;01mNone\u001B[39;00m:\n",
      "File \u001B[0;32m~/.conda/envs/BrainDataPortal/lib/python3.10/site-packages/pandas/io/parsers/c_parser_wrapper.py:93\u001B[0m, in \u001B[0;36mCParserWrapper.__init__\u001B[0;34m(self, src, **kwds)\u001B[0m\n\u001B[1;32m     90\u001B[0m \u001B[38;5;28;01mif\u001B[39;00m kwds[\u001B[38;5;124m\"\u001B[39m\u001B[38;5;124mdtype_backend\u001B[39m\u001B[38;5;124m\"\u001B[39m] \u001B[38;5;241m==\u001B[39m \u001B[38;5;124m\"\u001B[39m\u001B[38;5;124mpyarrow\u001B[39m\u001B[38;5;124m\"\u001B[39m:\n\u001B[1;32m     91\u001B[0m     \u001B[38;5;66;03m# Fail here loudly instead of in cython after reading\u001B[39;00m\n\u001B[1;32m     92\u001B[0m     import_optional_dependency(\u001B[38;5;124m\"\u001B[39m\u001B[38;5;124mpyarrow\u001B[39m\u001B[38;5;124m\"\u001B[39m)\n\u001B[0;32m---> 93\u001B[0m \u001B[38;5;28mself\u001B[39m\u001B[38;5;241m.\u001B[39m_reader \u001B[38;5;241m=\u001B[39m \u001B[43mparsers\u001B[49m\u001B[38;5;241;43m.\u001B[39;49m\u001B[43mTextReader\u001B[49m\u001B[43m(\u001B[49m\u001B[43msrc\u001B[49m\u001B[43m,\u001B[49m\u001B[43m \u001B[49m\u001B[38;5;241;43m*\u001B[39;49m\u001B[38;5;241;43m*\u001B[39;49m\u001B[43mkwds\u001B[49m\u001B[43m)\u001B[49m\n\u001B[1;32m     95\u001B[0m \u001B[38;5;28mself\u001B[39m\u001B[38;5;241m.\u001B[39munnamed_cols \u001B[38;5;241m=\u001B[39m \u001B[38;5;28mself\u001B[39m\u001B[38;5;241m.\u001B[39m_reader\u001B[38;5;241m.\u001B[39munnamed_cols\n\u001B[1;32m     97\u001B[0m \u001B[38;5;66;03m# error: Cannot determine type of 'names'\u001B[39;00m\n",
      "File \u001B[0;32mparsers.pyx:581\u001B[0m, in \u001B[0;36mpandas._libs.parsers.TextReader.__cinit__\u001B[0;34m()\u001B[0m\n",
      "\u001B[0;31mEmptyDataError\u001B[0m: No columns to parse from file"
     ]
    }
   ],
   "execution_count": 3
  },
  {
   "cell_type": "markdown",
   "metadata": {},
   "source": [
    "## 💾 Save Marker Genes to JSON Dictionary"
   ],
   "id": "aab4bf7d32358331"
  },
  {
   "cell_type": "code",
   "execution_count": null,
   "metadata": {},
   "outputs": [],
   "source": [
    "marker_genes_dict = defaultdict(list)\n",
    "for index, row in top_genes.iterrows():\n",
    "    marker_genes_dict[row[\"cluster\"]].append([row[\"gene\"], row[\"avg_log2FC\"], row[\"p_val_adj\"]])\n",
    "\n",
    "with open(output_folder + \"/cluster_markergenes_topN.json\", \"w\") as f:\n",
    "    json.dump(marker_genes_dict, f, indent=4)"
   ],
   "id": "a0ac1917cc462263"
  },
  {
   "cell_type": "markdown",
   "metadata": {},
   "source": [
    "## 📑 Load Metadata and Setup Cluster List"
   ],
   "id": "e4d62bb2156b886d"
  },
  {
   "cell_type": "code",
   "execution_count": null,
   "metadata": {},
   "outputs": [],
   "source": [
    "pool_genes = top_genes[\"gene\"].unique().tolist()\n",
    "cluster_list = top_genes[\"cluster\"].unique().tolist()\n",
    "metadata = pd.read_csv(dataset_folder + \"/cellspot_metadata_original.csv\", index_col=0, header=0)"
   ],
   "id": "59a1200f97f444f3"
  },
  {
   "cell_type": "markdown",
   "metadata": {},
   "source": [
    "## 📈 Analyze Expression Levels and Cell Counts per Gene/Cluster/Condition/Sex"
   ],
   "id": "268a24dc6eb9cb0e"
  },
  {
   "cell_type": "code",
   "execution_count": null,
   "metadata": {},
   "outputs": [],
   "source": [
    "pct_detected = {}\n",
    "marker_genes_df = pd.DataFrame()\n",
    "\n",
    "for cluster in cluster_list:\n",
    "    print(\"==========================\")\n",
    "    print(\"Processing cluster: \", cluster)\n",
    "    pct_detected[cluster] = []\n",
    "    cells_in_cluster = metadata[metadata[cluster_col] == cluster]\n",
    "    num_cells = len(cells_in_cluster)\n",
    "    \n",
    "    conditions = metadata[condition_col].unique().tolist()\n",
    "    sex = metadata[sex_col].unique().tolist()\n",
    "    \n",
    "    for condition in conditions:\n",
    "        for s in sex:\n",
    "            subgroup_counts = {}\n",
    "            print(\"Processing condition: \", condition, \" and sex: \", s)\n",
    "            diagnosis_sex_group = cells_in_cluster[(cells_in_cluster[condition_col] == condition) & (cells_in_cluster[sex_col] == s)]\n",
    "            n_cells = len(diagnosis_sex_group)\n",
    "            subgroup_counts[\"condition\"] = condition\n",
    "            subgroup_counts[\"sex\"] = s\n",
    "            subgroup_counts[\"count\"] = n_cells\n",
    "            pct_detected[cluster].append(subgroup_counts)\n",
    "    \n",
    "    marker_genes = {}\n",
    "    for gene in pool_genes:\n",
    "        marker_genes[gene] = {}\n",
    "        gene_expr = json.load(open(dataset_folder + \"/gene_jsons/\"+gene+\".json\"))\n",
    "        gene_expr_in_cells = list(gene_expr.keys())\n",
    "        cells_with_gene_expr = [cell for cell in gene_expr_in_cells if cell in cells_in_cluster.index]\n",
    "        num_cells_with_gene_expr = len(cells_with_gene_expr)\n",
    "\n",
    "        if num_cells_with_gene_expr == 0:\n",
    "            avg_expr = 0.00\n",
    "        else:\n",
    "            avg_expr = np.nanmean([float(gene_expr[cell]) for cell in cells_with_gene_expr])\n",
    "            if np.isnan(avg_expr):\n",
    "                avg_expr = 0.00\n",
    "            else:\n",
    "                avg_expr = round(avg_expr, 2)\n",
    "        \n",
    "        marker_genes[gene][\"avg_expr\"] = avg_expr\n",
    "        marker_genes[gene][\"is_marker\"] = gene in [g[0] for g in marker_genes_dict[cluster]]\n",
    "        marker_genes[gene][\"n_expr_cells\"] = num_cells_with_gene_expr\n",
    "    \n",
    "    marker_df = pd.DataFrame.from_dict(marker_genes, orient='index')\n",
    "    marker_df[cluster_col] = cluster\n",
    "    marker_df[\"cluster_n_cells\"] = num_cells\n",
    "    marker_genes_df = pd.concat([marker_genes_df, marker_df], axis=0)\n",
    "\n",
    "marker_genes_df[\"gene\"] = marker_genes_df.index\n",
    "marker_genes_df = marker_genes_df.reset_index(drop=True)\n",
    "marker_genes_df = marker_genes_df[[\"gene\", cluster_col, \"cluster_n_cells\"] + \n",
    "                                  [col for col in marker_genes_df.columns \n",
    "                                   if col not in [\"gene\", cluster_col, \"cluster_n_cells\"]]]\n",
    "\n",
    "marker_genes_df.to_csv(output_folder + \"/cluster_markergenes_cellcounts.csv\", index=False)\n",
    "\n",
    "with open(output_folder + \"/cluster_cellcounts.json\", \"w\") as f:\n",
    "    json.dump(pct_detected, f, indent=4)"
   ],
   "id": "fb2e1f09d2a70765"
  }
 ],
 "metadata": {
  "kernelspec": {
   "display_name": "Python 3",
   "language": "python",
   "name": "python3"
  },
  "language_info": {
   "name": "python",
   "version": ""
  }
 },
 "nbformat": 4,
 "nbformat_minor": 5
}
